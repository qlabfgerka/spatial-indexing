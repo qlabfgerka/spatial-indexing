{
 "cells": [
  {
   "cell_type": "code",
   "execution_count": null,
   "metadata": {},
   "outputs": [],
   "source": [
    "import cv2\n",
    "import numpy as np\n",
    "import matplotlib.pyplot as pyplot\n",
    "import os\n",
    "import re\n",
    "import math\n",
    "from enum import Enum"
   ]
  },
  {
   "cell_type": "markdown",
   "metadata": {},
   "source": [
    "# Pomožne funkcije\n",
    "\n",
    "Globalne spremenljivke za direktorij z vhodnimi slikami in direktorij, kjer se bodo shranile izhodne slike.\n",
    "\n",
    "V direktorij, ki je definiran z `ASSETS_FOLDER` se iz [te povezave](https://scihub.copernicus.eu/dhus/#/home) ročno dobijo in shranijo vhodne slike, ki morajo biti tipa `.jp2`.\n",
    "V direktorij, ki je definiran z `OUTPUT_FOLDER` pa se bodo shranli izračunani indeksi.\n",
    "\n",
    "Oba direktorija morata obstajati za pravilno delovanje programa."
   ]
  },
  {
   "cell_type": "code",
   "execution_count": null,
   "metadata": {},
   "outputs": [],
   "source": [
    "ASSETS_FOLDER = \"assets/\"\n",
    "OUTPUT_FOLDER = \"output/\""
   ]
  },
  {
   "cell_type": "markdown",
   "metadata": {},
   "source": [
    "Enum razred, ki vsebuje vse podprte indekse."
   ]
  },
  {
   "cell_type": "code",
   "execution_count": null,
   "metadata": {},
   "outputs": [],
   "source": [
    "class Index(Enum):\n",
    "  EVI = 'evi',\n",
    "  NDVI = 'ndvi',\n",
    "  GNDVI = 'gndvi',\n",
    "  MSI = 'msi',\n",
    "  NDWI = 'ndwi',\n",
    "  NDBI = 'ndbi',\n",
    "  NDMI = 'ndmi',\n",
    "  NBR = 'nbr',\n",
    "  MACCIONI = 'maccioni',\n",
    "  PVR = 'pvr',\n",
    "  DATT1 = 'datt1',\n",
    "  SIPI1 = 'sipi1'"
   ]
  },
  {
   "cell_type": "markdown",
   "metadata": {},
   "source": [
    "Pomožna funkcija za prikaz sivinske slike."
   ]
  },
  {
   "cell_type": "code",
   "execution_count": null,
   "metadata": {},
   "outputs": [],
   "source": [
    "def display_image(image, title):\n",
    "  imgplot = pyplot.imshow(image, cmap=\"gray\")\n",
    "  pyplot.axis('off')\n",
    "  pyplot.title(title)\n",
    "  pyplot.show()"
   ]
  },
  {
   "cell_type": "markdown",
   "metadata": {},
   "source": [
    "Ker so slike precej velike, se ta funkcija sprehodi čez vse datoteke v direktoriju `ASSETS_FOLDER` in s pomočjo regexa shrani vse ujemajoče se datoteke v slovarju, ki je uporabljen ob izračunu indeksov. Vse slike se ne shranijo v pomnilnik, ampak se uporabijo le takrat, ko so zahtevane v izračunu indeksa."
   ]
  },
  {
   "cell_type": "code",
   "execution_count": null,
   "metadata": {},
   "outputs": [],
   "source": [
    "def setup_dictionary(folder):\n",
    "  images = {}\n",
    "  for filename in os.listdir(folder):\n",
    "    key = re.search('B[0|1|8][0-9|A]', filename)\n",
    "    if key:      \n",
    "      images[key.group(0)] = filename\n",
    "\n",
    "      print('handled:', key.group(0))\n",
    "  return images"
   ]
  },
  {
   "cell_type": "markdown",
   "metadata": {},
   "source": [
    "Slike so normalizirane na interval `[0, 1]`, vendar lahko pri normalizaciji pride do napak, zato se vse vrednosti, ki so izven tega intervala popravijo na ustrezne vrednosti."
   ]
  },
  {
   "cell_type": "code",
   "execution_count": null,
   "metadata": {},
   "outputs": [],
   "source": [
    "def fix_image(image):\n",
    "  image[image > 1] = 1\n",
    "  image[image <= 0] = 0\n",
    "  return image"
   ]
  },
  {
   "cell_type": "markdown",
   "metadata": {},
   "source": [
    "Funkcija, ki s naloži sliko iz diska in jo normalizira."
   ]
  },
  {
   "cell_type": "code",
   "execution_count": null,
   "metadata": {},
   "outputs": [],
   "source": [
    "def load_image(filename):\n",
    "  image = cv2.imread(ASSETS_FOLDER + filename, -1)\n",
    "  max_value = np.iinfo(image.dtype).max\n",
    "\n",
    "  if image is not None:\n",
    "    image = image.astype(np.float32)\n",
    "    image = image / max_value\n",
    "    image = fix_image(image)\n",
    "\n",
    "    return image"
   ]
  },
  {
   "cell_type": "markdown",
   "metadata": {},
   "source": [
    "Funkcija, ki prejme sliko, velikost slike in faktor skaliranja. Če je faktor skaliranja večji od 1, potem mora slika biti povečana na ustrezno velikost, in sicer njena velikost se pomnoži s faktorjem skaliranja. Če je faktor skaliranja enak 1, potem ni potrebno povečevati slike in funkcija ne stori ničesar."
   ]
  },
  {
   "cell_type": "code",
   "execution_count": null,
   "metadata": {},
   "outputs": [],
   "source": [
    "def upscale_image(image, size, factor):\n",
    "  if factor == 1:\n",
    "    return image\n",
    "    \n",
    "  print('upscaling by: ' + str(factor))\n",
    "  image = cv2.resize(image, (size * factor, size * factor))\n",
    "  return image"
   ]
  },
  {
   "cell_type": "markdown",
   "metadata": {},
   "source": [
    "Spodnja funkcija prejme niz slik, ki so uporabljene v izračunu posameznega indeksa. Pridobijo se vse velikosti slik in pridobi se tudi maksimalna velikost izmed teh slik. Funkcija potem za vsako sliko izvede skaliranje in popravljanje slike, če je potrebno."
   ]
  },
  {
   "cell_type": "code",
   "execution_count": null,
   "metadata": {},
   "outputs": [],
   "source": [
    "def upscale_images(images):\n",
    "  shapes = list(map(lambda image: image.shape[0], images))\n",
    "  max_size = max(shapes)\n",
    "\n",
    "  for id, image in enumerate(images):\n",
    "    images[id] = upscale_image(image, image.shape[0], math.floor(max_size / image.shape[0]))\n",
    "    images[id] = fix_image(images[id])\n",
    "\n",
    "  return images"
   ]
  },
  {
   "cell_type": "markdown",
   "metadata": {},
   "source": [
    "Funkcija za izračun indeksov. Indeksi so bili izračunani po spodnjih formulah.\n",
    "\n",
    "Pet poljubnih indeksov je bilo **naključno** izbranih iz [te spletne strani](https://custom-scripts.sentinel-hub.com/custom-scripts/sentinel-2/indexdb/)\n",
    "\n",
    "### Indeksi iz predavanj\n",
    "\n",
    "$ EVI = \\frac{\\vec{s}[8]\\;-\\;\\vec{s}[4]}{\\vec{s}[8]\\;+\\;6\\vec{s}[4]\\;-\\;7.5\\vec{s}[2]\\;+\\;1} $\n",
    "\n",
    "$ NDVI = \\frac{\\vec{s}[8]\\;-\\;\\vec{s}[4]}{\\vec{s}[8]\\;+\\;\\vec{s}[4]} $\n",
    "\n",
    "$ GNDVI = \\frac{\\vec{s}[8]\\;-\\;\\vec{s}[3]}{\\vec{s}[8]\\;+\\;\\vec{s}[3]} $\n",
    "\n",
    "$ MSI = \\frac{\\vec{s}[11]}{\\vec{s}[8]} $\n",
    "\n",
    "$ NDWI = \\frac{\\vec{s}[3]\\;-\\;\\vec{s}[11]}{\\vec{s}[3]\\;+\\;\\vec{s}[11]} $\n",
    "\n",
    "$ NDBI = \\frac{\\vec{s}[11]\\;-\\;\\vec{s}[8]}{\\vec{s}[11]\\;+\\;\\vec{s}[8]} $\n",
    "\n",
    "$ NDMI = \\frac{\\vec{s}[9]\\;-\\;\\vec{s}[8]}{\\vec{s}[9]\\;+\\;\\vec{s}[8]} $\n",
    "\n",
    "\n",
    "### Pet poljubnih indeksov\n",
    "\n",
    "$ NBR = \\frac{\\vec{s}[8]\\;-\\;\\vec{s}[12]}{\\vec{s}[8]\\;+\\;\\vec{s}[12]} $\n",
    "\n",
    "$ Maccioni = \\frac{\\vec{s}[7]\\;-\\;\\vec{s}[5]}{\\vec{s}[7]\\;-\\;\\vec{s}[4]} $\n",
    "\n",
    "$ PVR = \\frac{\\vec{s}[3]\\;-\\;\\vec{s}[4]}{\\vec{s}[3]\\;+\\;\\vec{s}[4]} $\n",
    "\n",
    "$ Datt1 = \\frac{\\vec{s}[8]\\;-\\;\\vec{s}[5]}{\\vec{s}[8]\\;-\\;\\vec{s}[4]} $\n",
    "\n",
    "$ SIPI1 = \\frac{\\vec{s}[8]\\;-\\;\\vec{s}[1]}{\\vec{s}[8]\\;-\\;\\vec{s}[4]} $"
   ]
  },
  {
   "cell_type": "code",
   "execution_count": null,
   "metadata": {},
   "outputs": [],
   "source": [
    "def calculate_index(images, index):\n",
    "  print('calculating:', index.name)\n",
    "\n",
    "  if index == Index.EVI:\n",
    "    loaded_images = [load_image(images['B08']), load_image(images['B04']), load_image(images['B02'])]\n",
    "    loaded_images = upscale_images(loaded_images)\n",
    "    numerator = loaded_images[0] - loaded_images[1]\n",
    "    denominator = loaded_images[0] + 6 * loaded_images[1] - 7.5 * loaded_images[2] + 1\n",
    "    \n",
    "    return np.divide(numerator, denominator, out=np.zeros_like(numerator), where=denominator!=0)\n",
    "  elif index == Index.NDVI:\n",
    "    loaded_images = [load_image(images['B08']), load_image(images['B04'])]\n",
    "    loaded_images = upscale_images(loaded_images)\n",
    "    numerator = loaded_images[0] - loaded_images[1]\n",
    "    denominator = loaded_images[0] + loaded_images[1]\n",
    "\n",
    "    return np.divide(numerator, denominator, out=np.zeros_like(numerator), where=denominator!=0)\n",
    "  elif index == Index.GNDVI:\n",
    "    loaded_images = [load_image(images['B08']), load_image(images['B03'])]\n",
    "    loaded_images = upscale_images(loaded_images)\n",
    "    numerator = loaded_images[0] - loaded_images[1]\n",
    "    denominator = loaded_images[0] + loaded_images[1]\n",
    "\n",
    "    return np.divide(numerator, denominator, out=np.zeros_like(numerator), where=denominator!=0)\n",
    "  elif index == Index.MSI:\n",
    "    loaded_images = [load_image(images['B11']), load_image(images['B08'])]\n",
    "    loaded_images = upscale_images(loaded_images)\n",
    "\n",
    "    return np.divide(loaded_images[0], loaded_images[1], out=np.zeros_like(loaded_images[0]), where=loaded_images[1]!=0)\n",
    "  elif index == Index.NDWI:\n",
    "    loaded_images = [load_image(images['B03']), load_image(images['B11'])]\n",
    "    loaded_images = upscale_images(loaded_images)\n",
    "    numerator = loaded_images[0] - loaded_images[1]\n",
    "    denominator = loaded_images[0] + loaded_images[1]\n",
    "\n",
    "    return np.divide(numerator, denominator, out=np.zeros_like(numerator), where=denominator!=0)\n",
    "  elif index == Index.NDBI:\n",
    "    loaded_images = [load_image(images['B11']), load_image(images['B08'])]\n",
    "    loaded_images = upscale_images(loaded_images)\n",
    "    numerator = loaded_images[0] - loaded_images[1]\n",
    "    denominator = loaded_images[0] + loaded_images[1]\n",
    "\n",
    "    return np.divide(numerator, denominator, out=np.zeros_like(numerator), where=denominator!=0)\n",
    "  elif index == Index.NDMI:\n",
    "    loaded_images = [load_image(images['B09']), load_image(images['B08'])]\n",
    "    loaded_images = upscale_images(loaded_images)\n",
    "    numerator = loaded_images[0] - loaded_images[1]\n",
    "    denominator = loaded_images[0] + loaded_images[1]\n",
    "\n",
    "    return np.divide(numerator, denominator, out=np.zeros_like(numerator), where=denominator!=0)\n",
    "  elif index == Index.NBR:\n",
    "    loaded_images = [load_image(images['B08']), load_image(images['B12'])]\n",
    "    loaded_images = upscale_images(loaded_images)\n",
    "    numerator = loaded_images[0] - loaded_images[1]\n",
    "    denominator = loaded_images[0] + loaded_images[1]\n",
    "\n",
    "    return np.divide(numerator, denominator, out=np.zeros_like(numerator), where=denominator!=0)\n",
    "  elif index == Index.MACCIONI:\n",
    "    loaded_images = [load_image(images['B07']), load_image(images['B05']), load_image(images['B04'])]\n",
    "    loaded_images = upscale_images(loaded_images)\n",
    "    numerator = loaded_images[0] - loaded_images[1]\n",
    "    denominator = loaded_images[0] - loaded_images[2]\n",
    "\n",
    "    return np.divide(numerator, denominator, out=np.zeros_like(numerator), where=denominator!=0)\n",
    "  elif index == Index.PVR:\n",
    "    loaded_images = [load_image(images['B03']), load_image(images['B04'])]\n",
    "    loaded_images = upscale_images(loaded_images)\n",
    "    numerator = loaded_images[0] - loaded_images[1]\n",
    "    denominator = loaded_images[0] + loaded_images[1]\n",
    "\n",
    "    return np.divide(numerator, denominator, out=np.zeros_like(numerator), where=denominator!=0)\n",
    "  elif index == Index.DATT1:\n",
    "    loaded_images = [load_image(images['B08']), load_image(images['B05']), load_image(images['B04'])]\n",
    "    loaded_images = upscale_images(loaded_images)\n",
    "    numerator = loaded_images[0] - loaded_images[1]\n",
    "    denominator = loaded_images[0] - loaded_images[2]\n",
    "\n",
    "    return np.divide(numerator, denominator, out=np.zeros_like(numerator), where=denominator!=0)\n",
    "  elif index == Index.SIPI1:\n",
    "    loaded_images = [load_image(images['B08']), load_image(images['B01']), load_image(images['B04'])]\n",
    "    loaded_images = upscale_images(loaded_images)\n",
    "    numerator = loaded_images[0] - loaded_images[1]\n",
    "    denominator = loaded_images[0] - loaded_images[2]\n",
    "\n",
    "    return np.divide(numerator, denominator, out=np.zeros_like(numerator), where=denominator!=0)\n",
    "  else:\n",
    "    return None"
   ]
  },
  {
   "cell_type": "markdown",
   "metadata": {},
   "source": [
    "# Glavni del programa\n",
    "\n",
    "V tem kratkem odseku se izvede inicializacija slovarja."
   ]
  },
  {
   "cell_type": "code",
   "execution_count": null,
   "metadata": {},
   "outputs": [],
   "source": [
    "images = setup_dictionary(ASSETS_FOLDER)"
   ]
  },
  {
   "cell_type": "markdown",
   "metadata": {},
   "source": [
    "Nato se prikaže vsak izmed pasov."
   ]
  },
  {
   "cell_type": "code",
   "execution_count": null,
   "metadata": {},
   "outputs": [],
   "source": [
    "for key in images:\n",
    "  image = load_image(images[key])\n",
    "  print(key + ': ' + images[key] + ' ' + str(image.shape))\n",
    "  \n",
    "  display_image(image, key)"
   ]
  },
  {
   "cell_type": "markdown",
   "metadata": {},
   "source": [
    "Na koncu pa je `for` zanka, ki gre čez vse indekse v Enum razredu in rezultate shrani na disk."
   ]
  },
  {
   "cell_type": "code",
   "execution_count": null,
   "metadata": {},
   "outputs": [],
   "source": [
    "for index in Index:\n",
    "  index_image = calculate_index(images, index)\n",
    "\n",
    "  if index_image is not None:\n",
    "    print('saving to:', OUTPUT_FOLDER + index.name + \".tif\")\n",
    "\n",
    "    cv2.imwrite(OUTPUT_FOLDER + index.name + \".tif\", index_image)"
   ]
  },
  {
   "cell_type": "markdown",
   "metadata": {},
   "source": [
    "# Rezultati\n",
    "\n",
    "Na spodnji sliki se nahajajo izračunani indeksi, v tem primeru so bili uporabljeni podatki iz okolice Reykjavika.\n",
    "\n",
    "![](docs/calculated.PNG)"
   ]
  }
 ],
 "metadata": {
  "kernelspec": {
   "display_name": "Python 3.10.2 64-bit",
   "language": "python",
   "name": "python3"
  },
  "language_info": {
   "codemirror_mode": {
    "name": "ipython",
    "version": 3
   },
   "file_extension": ".py",
   "mimetype": "text/x-python",
   "name": "python",
   "nbconvert_exporter": "python",
   "pygments_lexer": "ipython3",
   "version": "3.10.2"
  },
  "orig_nbformat": 4,
  "vscode": {
   "interpreter": {
    "hash": "6532684ccaeb1bcbbe852b7f75c67e6f1d55df7d386020fd37670376cbe3d2c9"
   }
  }
 },
 "nbformat": 4,
 "nbformat_minor": 2
}
