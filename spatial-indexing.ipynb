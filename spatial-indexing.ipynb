{
 "cells": [
  {
   "cell_type": "code",
   "execution_count": null,
   "metadata": {},
   "outputs": [],
   "source": [
    "import cv2\n",
    "import numpy as np\n",
    "import matplotlib.pyplot as pyplot\n",
    "import os\n",
    "import re\n",
    "import math\n",
    "import tifffile\n",
    "from enum import Enum"
   ]
  },
  {
   "cell_type": "code",
   "execution_count": null,
   "metadata": {},
   "outputs": [],
   "source": [
    "ASSETS_FOLDER = \"assets/\"\n",
    "OUTPUT_FOLDER = \"output/\""
   ]
  },
  {
   "cell_type": "code",
   "execution_count": null,
   "metadata": {},
   "outputs": [],
   "source": [
    "class Index(Enum):\n",
    "  EVI = 'evi',\n",
    "  NDVI = 'ndvi',\n",
    "  GNDVI = 'gndvi',\n",
    "  MSI = 'msi',\n",
    "  NDWI = 'ndwi',\n",
    "  NDBI = 'ndbi',\n",
    "  NDMI = 'ndmi'"
   ]
  },
  {
   "cell_type": "code",
   "execution_count": null,
   "metadata": {},
   "outputs": [],
   "source": [
    "def setup_dictionary(folder):\n",
    "  images = {}\n",
    "  for filename in os.listdir(folder):\n",
    "    #img = cv2.imread(os.path.join(folder, filename))\n",
    "    key = re.search('B[0|1|8][0-9|A]', filename)\n",
    "    #if img is not None and key:\n",
    "    if key:\n",
    "      #img = cv2.cvtColor(img, cv2.COLOR_BGR2RGB)\n",
    "      #img = img / 255\n",
    "      #img[img > 1] = 1\n",
    "      #img[img <= 0] = 0.0001\n",
    "\n",
    "      #img = img.astype(np.float32)\n",
    "\n",
    "      #if(img.shape[0] > max_size):\n",
    "      #  max_size = img.shape[0]\n",
    "      \n",
    "      images[key.group(0)] = filename\n",
    "\n",
    "      print('handled:', key.group(0))\n",
    "  return images"
   ]
  },
  {
   "cell_type": "code",
   "execution_count": null,
   "metadata": {},
   "outputs": [],
   "source": [
    "def fix_image(image):\n",
    "  image[image > 1] = 1\n",
    "  image[image <= 0] = 0\n",
    "  return image"
   ]
  },
  {
   "cell_type": "code",
   "execution_count": null,
   "metadata": {},
   "outputs": [],
   "source": [
    "def load_image(filename):\n",
    "  image = cv2.imread(ASSETS_FOLDER + filename)\n",
    "\n",
    "  if image is not None:\n",
    "    image = cv2.cvtColor(image, cv2.COLOR_BGR2RGB)\n",
    "    image = image.astype(np.float32)\n",
    "    image = image / 255\n",
    "    image = fix_image(image)\n",
    "\n",
    "    return image"
   ]
  },
  {
   "cell_type": "code",
   "execution_count": null,
   "metadata": {},
   "outputs": [],
   "source": [
    "def upscale_image(image, size, factor):\n",
    "  if factor == 1:\n",
    "    return image\n",
    "    \n",
    "  print('upscaling by: ' + str(factor))\n",
    "  image = cv2.resize(image, (size * factor, size * factor))\n",
    "  return image"
   ]
  },
  {
   "cell_type": "code",
   "execution_count": null,
   "metadata": {},
   "outputs": [],
   "source": [
    "def upscale_images(images):\n",
    "  shapes = list(map(lambda image: image.shape[0], images))\n",
    "  max_size = max(shapes)\n",
    "\n",
    "  for id, image in enumerate(images):\n",
    "    images[id] = upscale_image(image, image.shape[0], math.floor(max_size / image.shape[0]))\n",
    "    images[id] = fix_image(images[id])\n",
    "\n",
    "  return images"
   ]
  },
  {
   "cell_type": "code",
   "execution_count": null,
   "metadata": {},
   "outputs": [],
   "source": [
    "def display_image(image):\n",
    "  imgplot = pyplot.imshow(image)\n",
    "  pyplot.axis('off')\n",
    "  pyplot.show()"
   ]
  },
  {
   "cell_type": "code",
   "execution_count": null,
   "metadata": {},
   "outputs": [],
   "source": [
    "def calculate_index(images, index):\n",
    "  print('calculating:', index)\n",
    "\n",
    "  if index == Index.EVI:\n",
    "    loaded_images = [load_image(images['B08']), load_image(images['B04']), load_image(images['B02'])]\n",
    "    loaded_images = upscale_images(loaded_images)\n",
    "    numerator = loaded_images[0] - loaded_images[1]\n",
    "    denominator = loaded_images[0] + 6 * loaded_images[1] - 7.5 * loaded_images[2] + 1\n",
    "\n",
    "    print('0 max', np.amax(loaded_images[0]))\n",
    "    print('0 min', np.amin(loaded_images[0]))\n",
    "    print('1 max', np.amax(loaded_images[1]))\n",
    "    print('1 min', np.amin(loaded_images[1]))\n",
    "    print('2 max', np.amax(loaded_images[2]))\n",
    "    print('2 min', np.amin(loaded_images[2]))\n",
    "    print('top max', np.amax(numerator))\n",
    "    print('top min', np.amin(numerator))\n",
    "    print('top max', np.amax(denominator))\n",
    "    print('top min', np.amin(denominator))\n",
    "    \n",
    "    return np.divide(numerator, denominator, out=np.zeros_like(numerator), where=denominator!=0)\n",
    "  elif index == Index.NDVI:\n",
    "    loaded_images = [load_image(images['B08']), load_image(images['B04'])]\n",
    "    loaded_images = upscale_images(loaded_images)\n",
    "    numerator = loaded_images[0] - loaded_images[1]\n",
    "    denominator = loaded_images[0] - loaded_images[1]\n",
    "\n",
    "    return np.divide(numerator, denominator, out=np.zeros_like(numerator), where=denominator!=0)\n",
    "  elif index == Index.GNDVI:\n",
    "    loaded_images = [load_image(images['B08']), load_image(images['B03'])]\n",
    "    loaded_images = upscale_images(loaded_images)\n",
    "    numerator = loaded_images[0] - loaded_images[1]\n",
    "    denominator = loaded_images[0] - loaded_images[1]\n",
    "\n",
    "    return np.divide(numerator, denominator, out=np.zeros_like(numerator), where=denominator!=0)\n",
    "  elif index == Index.MSI:\n",
    "    loaded_images = [load_image(images['B11']), load_image(images['B08'])]\n",
    "    loaded_images = upscale_images(loaded_images)\n",
    "\n",
    "    return np.divide(loaded_images[0], loaded_images[1], out=np.zeros_like(loaded_images[0]), where=loaded_images[1]!=0)\n",
    "  elif index == Index.NDWI:\n",
    "    loaded_images = [load_image(images['B03']), load_image(images['B11'])]\n",
    "    loaded_images = upscale_images(loaded_images)\n",
    "    numerator = loaded_images[0] - loaded_images[1]\n",
    "    denominator = loaded_images[0] - loaded_images[1]\n",
    "\n",
    "    return np.divide(numerator, denominator, out=np.zeros_like(numerator), where=denominator!=0)\n",
    "  elif index == Index.NDBI:\n",
    "    loaded_images = [load_image(images['B11']), load_image(images['B08'])]\n",
    "    loaded_images = upscale_images(loaded_images)\n",
    "    numerator = loaded_images[0] - loaded_images[1]\n",
    "    denominator = loaded_images[0] - loaded_images[1]\n",
    "\n",
    "    return np.divide(numerator, denominator, out=np.zeros_like(numerator), where=denominator!=0)\n",
    "  elif index == Index.NDMI:\n",
    "    loaded_images = [load_image(images['B09']), load_image(images['B08'])]\n",
    "    loaded_images = upscale_images(loaded_images)\n",
    "    numerator = loaded_images[0] - loaded_images[1]\n",
    "    denominator = loaded_images[0] - loaded_images[1]\n",
    "\n",
    "    return np.divide(numerator, denominator, out=np.zeros_like(numerator), where=denominator!=0)\n",
    "  else:\n",
    "    return None"
   ]
  },
  {
   "cell_type": "code",
   "execution_count": null,
   "metadata": {},
   "outputs": [],
   "source": [
    "images = setup_dictionary(ASSETS_FOLDER)"
   ]
  },
  {
   "cell_type": "code",
   "execution_count": null,
   "metadata": {},
   "outputs": [],
   "source": [
    "#print(max_size)\n",
    "#upscale_images(images, max_size)\n",
    "\n",
    "for key in images:\n",
    "  image = load_image(images[key])\n",
    "  print(key + ': ' + images[key] + ' ' + str(image.shape))\n",
    "  \n",
    "  display_image(image)"
   ]
  },
  {
   "cell_type": "code",
   "execution_count": null,
   "metadata": {},
   "outputs": [],
   "source": [
    "for index in Index:\n",
    "  index_image = calculate_index(images, index)\n",
    "\n",
    "  #print(index_image.shape)\n",
    "  if index_image is not None:\n",
    "    print(np.amax(index_image))\n",
    "    print(np.amin(index_image))\n",
    "\n",
    "    print(index_image)\n",
    "    \n",
    "    #index_image = index_image * 255\n",
    "    #index_image[index_image > 255] = 255\n",
    "    #index_image[index_image < 0] = 0\n",
    "    #index_image = index_image.astype(np.uint8)\n",
    "\n",
    "    #display_image(index_image)\n",
    "\n",
    "    print('saving to:', OUTPUT_FOLDER + index.name + \".tif\")\n",
    "\n",
    "    #cv2.imwrite(OUTPUT_FOLDER + index.name + \".tif\", index_image)\n",
    "    tifffile.imwrite(OUTPUT_FOLDER + index.name + \".tif\", index_image, photometric=\"rgb\")"
   ]
  }
 ],
 "metadata": {
  "kernelspec": {
   "display_name": "Python 3.10.2 64-bit",
   "language": "python",
   "name": "python3"
  },
  "language_info": {
   "codemirror_mode": {
    "name": "ipython",
    "version": 3
   },
   "file_extension": ".py",
   "mimetype": "text/x-python",
   "name": "python",
   "nbconvert_exporter": "python",
   "pygments_lexer": "ipython3",
   "version": "3.10.2"
  },
  "orig_nbformat": 4,
  "vscode": {
   "interpreter": {
    "hash": "6532684ccaeb1bcbbe852b7f75c67e6f1d55df7d386020fd37670376cbe3d2c9"
   }
  }
 },
 "nbformat": 4,
 "nbformat_minor": 2
}
